{
 "cells": [
  {
   "cell_type": "code",
   "execution_count": 2,
   "id": "65d99402",
   "metadata": {},
   "outputs": [
    {
     "name": "stderr",
     "output_type": "stream",
     "text": [
      "/Library/Frameworks/Python.framework/Versions/3.12/lib/python3.12/site-packages/tqdm/auto.py:21: TqdmWarning: IProgress not found. Please update jupyter and ipywidgets. See https://ipywidgets.readthedocs.io/en/stable/user_install.html\n",
      "  from .autonotebook import tqdm as notebook_tqdm\n"
     ]
    }
   ],
   "source": [
    "# 📦 Import libraries\n",
    "import pandas as pd\n",
    "import numpy as np\n",
    "import matplotlib.pyplot as plt\n",
    "import seaborn as sns\n",
    "\n",
    "\n",
    "import spacy\n",
    "import textstat\n",
    "import language_tool_python\n",
    "from spellchecker import SpellChecker\n",
    "from sentence_transformers import SentenceTransformer, util\n",
    "import os\n",
    "os.environ[\"TOKENIZERS_PARALLELISM\"] = \"true\"\n",
    "\n",
    "\n",
    "from sklearn.model_selection import train_test_split\n",
    "from sklearn.ensemble import RandomForestRegressor\n",
    "from sklearn.linear_model import LogisticRegression, LinearRegression\n",
    "from sklearn.metrics import (\n",
    "    classification_report,\n",
    "    confusion_matrix,\n",
    "    accuracy_score,\n",
    "    f1_score,\n",
    "    precision_score,\n",
    "    recall_score\n",
    ")\n",
    "from sklearn.preprocessing import StandardScaler\n"
   ]
  },
  {
   "cell_type": "code",
   "execution_count": 3,
   "id": "ce2a9306",
   "metadata": {},
   "outputs": [],
   "source": [
    "# 📥 Load the dataset (downloaded from Kaggle)\n",
    "file_path = \"Dataset/ASAP2_train_sourcetexts.csv\"  # Replace with your path\n",
    "df = pd.read_csv(file_path, encoding='UTF-8')"
   ]
  },
  {
   "cell_type": "markdown",
   "id": "9b615663",
   "metadata": {},
   "source": [
    "### Feature Engineering"
   ]
  },
  {
   "cell_type": "code",
   "execution_count": 4,
   "id": "9a8fe6db",
   "metadata": {},
   "outputs": [],
   "source": [
    "# Basic: Count\n",
    "df['word_count'] = df['full_text'].apply(lambda x: len(str(x).split()))\n",
    "df['char_count'] = df['full_text'].apply(lambda x: len(str(x)))\n",
    "df['avg_word_length'] = df['full_text'].apply(\n",
    "    lambda x: np.mean([len(word) for word in str(x).split()]) if pd.notnull(x) and len(str(x).split()) > 0 else 0\n",
    ")"
   ]
  },
  {
   "cell_type": "code",
   "execution_count": 5,
   "id": "df4540be",
   "metadata": {},
   "outputs": [],
   "source": [
    "def categorize_score(score):\n",
    "    if score <= 3:\n",
    "        return 0\n",
    "    else:\n",
    "        return 1\n",
    "\n",
    "df['score_class'] = df['score'].apply(categorize_score)"
   ]
  },
  {
   "cell_type": "code",
   "execution_count": 6,
   "id": "6c670e07",
   "metadata": {},
   "outputs": [],
   "source": [
    "\n",
    "# Load tools\n",
    "nlp = spacy.load(\"en_core_web_sm\")\n",
    "tool = language_tool_python.LanguageTool('en-US')\n",
    "spell = SpellChecker()\n",
    "embedder = SentenceTransformer('all-MiniLM-L6-v2')\n",
    "\n",
    "# Define function to extract features from one essay\n",
    "def extract_features(text):\n",
    "    doc = nlp(text)\n",
    "    \n",
    "    # Readability & structure\n",
    "    flesch = textstat.flesch_reading_ease(text)\n",
    "    syllables = textstat.syllable_count(text)\n",
    "    sentences = len(list(doc.sents))\n",
    "    paragraphs = text.count(\"\\n\\n\") + 1\n",
    "\n",
    "    # Grammar & spelling\n",
    "    grammar_errors = len(tool.check(text))\n",
    "    misspelled = len(spell.unknown(text.split()))\n",
    "    \n",
    "    # Syntax\n",
    "    pos_counts = doc.count_by(spacy.attrs.POS)\n",
    "    noun_count = pos_counts.get(doc.vocab.strings[\"NOUN\"], 0)\n",
    "    verb_count = pos_counts.get(doc.vocab.strings[\"VERB\"], 0)\n",
    "    adj_count = pos_counts.get(doc.vocab.strings[\"ADJ\"], 0)\n",
    "\n",
    "    # Passive voice detection (simplified)\n",
    "    passive = sum(1 for tok in doc if tok.dep_ == \"nsubjpass\")\n",
    "    \n",
    "    # Embeddings: intro vs. conclusion similarity\n",
    "    sentences = [sent.text.strip() for sent in doc.sents if len(sent.text.strip().split()) > 3]\n",
    "    if len(sentences) >= 2:\n",
    "        intro = embedder.encode(sentences[0], convert_to_tensor=True)\n",
    "        conclusion = embedder.encode(sentences[-1], convert_to_tensor=True)\n",
    "        coherence = float(util.cos_sim(intro, conclusion)[0][0])\n",
    "    else:\n",
    "        coherence = 0.0\n",
    "\n",
    "    return {\n",
    "        \"flesch_reading_ease\": flesch,\n",
    "        \"syllable_count\": syllables,\n",
    "        \"paragraph_count\": paragraphs,\n",
    "        \"sentence_count\": sentences,\n",
    "        \"grammar_errors\": grammar_errors,\n",
    "        \"spelling_errors\": misspelled,\n",
    "        \"noun_count\": noun_count,\n",
    "        \"verb_count\": verb_count,\n",
    "        \"adj_count\": adj_count,\n",
    "        \"passive_voice_sentences\": passive,\n",
    "        \"intro_conclusion_similarity\": coherence\n",
    "    }\n",
    "\n"
   ]
  },
  {
   "cell_type": "code",
   "execution_count": 7,
   "id": "2938fe18",
   "metadata": {},
   "outputs": [
    {
     "name": "stdout",
     "output_type": "stream",
     "text": [
      "Time per essay: 4.363277912139893\n"
     ]
    }
   ],
   "source": [
    "import time\n",
    "\n",
    "start = time.time()\n",
    "extract_features(df['full_text'].iloc[0])\n",
    "print(\"Time per essay:\", time.time() - start)\n"
   ]
  },
  {
   "cell_type": "code",
   "execution_count": 8,
   "id": "ff53addb",
   "metadata": {},
   "outputs": [
    {
     "data": {
      "text/plain": [
       "24728"
      ]
     },
     "execution_count": 8,
     "metadata": {},
     "output_type": "execute_result"
    }
   ],
   "source": [
    "len(df)"
   ]
  },
  {
   "cell_type": "code",
   "execution_count": 9,
   "id": "3056e9ca",
   "metadata": {},
   "outputs": [],
   "source": [
    "sample_df = df.sample(n=200, random_state=42)  \n",
    "nlp_features_sample = sample_df['full_text'].apply(lambda x: extract_features(str(x)))\n"
   ]
  },
  {
   "cell_type": "code",
   "execution_count": 10,
   "id": "b2b7db86",
   "metadata": {},
   "outputs": [],
   "source": [
    "# Apply feature extraction to all essays (slow)\n",
    "#nlp_features = df['full_text'].apply(lambda x: extract_features(str(x)))\n",
    "\n",
    "# Merge into original DataFrame\n",
    "nlp_features_sample = pd.DataFrame(list(nlp_features_sample))\n",
    "\n",
    "# Ensure index alignment (important before concat)\n",
    "nlp_features_sample.index = sample_df.index\n",
    "\n",
    "final_df = pd.concat([sample_df, nlp_features_sample], axis=1)"
   ]
  },
  {
   "cell_type": "code",
   "execution_count": 11,
   "id": "ae13d8dd",
   "metadata": {},
   "outputs": [],
   "source": [
    "# Use NLP features and other derived ones\n",
    "feature_cols = [\n",
    "    'word_count', \n",
    "    'char_count',\n",
    "    'avg_word_length',\n",
    "    \"flesch_reading_ease\",\n",
    "    \"syllable_count\",\n",
    "    \"paragraph_count\",\n",
    "    \"grammar_errors\",\n",
    "    \"spelling_errors\",\n",
    "    \"noun_count\",\n",
    "    \"verb_count\",\n",
    "    \"adj_count\",\n",
    "    \"passive_voice_sentences\",\n",
    "    \"intro_conclusion_similarity\",\n",
    "]\n",
    "\n",
    "\n",
    "\n",
    "X = final_df[feature_cols]\n",
    "y = final_df[\"score_class\"] # We can also use \"score\" for regression tasks\n"
   ]
  },
  {
   "cell_type": "code",
   "execution_count": 12,
   "id": "ec009a7a",
   "metadata": {},
   "outputs": [],
   "source": [
    "X_train, X_test, y_train, y_test = train_test_split(X, y, test_size=0.2, random_state=42)\n",
    "\n",
    "# Normalize for models that need scaling\n",
    "scaler = StandardScaler()\n",
    "X_train_scaled = scaler.fit_transform(X_train)\n",
    "X_test_scaled = scaler.transform(X_test)\n"
   ]
  },
  {
   "cell_type": "code",
   "execution_count": 13,
   "id": "2a6fff25",
   "metadata": {},
   "outputs": [
    {
     "name": "stdout",
     "output_type": "stream",
     "text": [
      "📘 Logistic Regression Evaluation:\n",
      "              precision    recall  f1-score   support\n",
      "\n",
      "           0       0.80      0.96      0.87        25\n",
      "           1       0.90      0.60      0.72        15\n",
      "\n",
      "    accuracy                           0.82        40\n",
      "   macro avg       0.85      0.78      0.80        40\n",
      "weighted avg       0.84      0.82      0.82        40\n",
      "\n"
     ]
    },
    {
     "data": {
      "image/png": "[encoded data removed]",
      "text/plain": [
       "<Figure size 1000x500 with 1 Axes>"
      ]
     },
     "metadata": {},
     "output_type": "display_data"
    }
   ],
   "source": [
    "log_reg = LogisticRegression(max_iter=1000)\n",
    "log_reg.fit(X_train_scaled, y_train)\n",
    "y_pred_log = log_reg.predict(X_test_scaled)\n",
    "\n",
    "print(\"📘 Logistic Regression Evaluation:\")\n",
    "print(classification_report(y_test, y_pred_log))\n",
    "\n",
    "# Feature importance\n",
    "importance = np.mean(np.abs(log_reg.coef_), axis=0)\n",
    "importance_df = pd.DataFrame({'Feature': feature_cols, 'Importance': importance}).sort_values(by='Importance', ascending=False)\n",
    "\n",
    "plt.figure(figsize=(10, 5))\n",
    "sns.barplot(x='Importance', y='Feature', data=importance_df)\n",
    "plt.title(\"Logistic Regression Feature Importance\")\n",
    "plt.tight_layout()\n",
    "plt.show()\n"
   ]
  }
 ],
 "metadata": {
  "kernelspec": {
   "display_name": "Python 3",
   "language": "python",
   "name": "python3"
  },
  "language_info": {
   "codemirror_mode": {
    "name": "ipython",
    "version": 3
   },
   "file_extension": ".py",
   "mimetype": "text/x-python",
   "name": "python",
   "nbconvert_exporter": "python",
   "pygments_lexer": "ipython3",
   "version": "3.12.2"
  }
 },
 "nbformat": 4,
 "nbformat_minor": 5
}
